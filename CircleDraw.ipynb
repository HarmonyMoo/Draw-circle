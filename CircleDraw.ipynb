{
  "nbformat": 4,
  "nbformat_minor": 0,
  "metadata": {
    "colab": {
      "provenance": [],
      "collapsed_sections": [],
      "include_colab_link": true
    },
    "kernelspec": {
      "name": "python3",
      "display_name": "Python 3"
    },
    "language_info": {
      "name": "python"
    }
  },
  "cells": [
    {
      "cell_type": "markdown",
      "metadata": {
        "id": "view-in-github",
        "colab_type": "text"
      },
      "source": [
        "<a href=\"https://colab.research.google.com/github/HarmonyMoo/Draw-circle/blob/main/CircleDraw.ipynb\" target=\"_parent\"><img src=\"https://colab.research.google.com/assets/colab-badge.svg\" alt=\"Open In Colab\"/></a>"
      ]
    },
    {
      "cell_type": "code",
      "source": [
        "# Python3 program for implementing\n",
        "# Mid-Point Circle Drawing Algorithm\n",
        "\n",
        "def midPointCircleDraw(x_centre, y_centre, r):\n",
        "\tx = r\n",
        "\ty = 0\n",
        "\n",
        "\t\n",
        "\t# Printing the initial point the\n",
        "\t# axes after translation\n",
        "\tprint(\"(\", x + x_centre, \", \",\n",
        "\t\t\ty + y_centre, \")\",\n",
        "\t\t\tsep = \"\", end = \"\")\n",
        "\t\n",
        "\t# When radius is zero only a single\n",
        "\t# point be printed\n",
        "\tif (r > 0) :\n",
        "\t\n",
        "\t\tprint(\"(\", x + x_centre, \", \",\n",
        "\t\t\t\t-y + y_centre, \")\",\n",
        "\t\t\t\tsep = \"\", end = \"\")\n",
        "\t\tprint(\"(\", y + x_centre, \", \",\n",
        "\t\t\t\tx + y_centre, \")\",\n",
        "\t\t\t\tsep = \"\", end = \"\")\n",
        "\t\tprint(\"(\", -y + x_centre, \", \",\n",
        "\t\t\t\t\tx + y_centre, \")\", sep = \"\")\n",
        "\t\n",
        "\t# Initialising the value of P\n",
        "\tP = 1 - r\n",
        "\n",
        "\twhile x > y:\n",
        "\t\n",
        "\t\ty += 1\n",
        "\t\t\n",
        "\t\t# Mid-point inside or on the perimeter\n",
        "\t\tif P <= 0:\n",
        "\t\t\tP = P + 2 * y + 1\n",
        "\t\t\t\n",
        "\t\t# Mid-point outside the perimeter\n",
        "\t\telse:\t\t\n",
        "\t\t\tx -= 1\n",
        "\t\t\tP = P + 2 * y - 2 * x + 1\n",
        "\t\t\n",
        "\t\t# All the perimeter points have\n",
        "\t\t# already been printed\n",
        "\t\tif (x < y):\n",
        "\t\t\tbreak\n",
        "\t\t\n",
        "\t\t# Printing the generated point its reflection\n",
        "\t\t# in the other octants after translation\n",
        "\t\tprint(\"(\", x + x_centre, \", \", y + y_centre,\n",
        "\t\t\t\t\t\t\t\")\", sep = \"\", end = \"\")\n",
        "\t\tprint(\"(\", -x + x_centre, \", \", y + y_centre,\n",
        "\t\t\t\t\t\t\t\")\", sep = \"\", end = \"\")\n",
        "\t\tprint(\"(\", x + x_centre, \", \", -y + y_centre,\n",
        "\t\t\t\t\t\t\t\")\", sep = \"\", end = \"\")\n",
        "\t\tprint(\"(\", -x + x_centre, \", \", -y + y_centre,\n",
        "\t\t\t\t\t\t\t\t\t\t\")\", sep = \"\")\n",
        "\t\t\n",
        "\t\t# If the generated point on the line x = y then\n",
        "\t\t# the perimeter points have already been printed\n",
        "\t\tif x != y:\n",
        "\t\t\n",
        "\t\t\tprint(\"(\", y + x_centre, \", \", x + y_centre,\n",
        "\t\t\t\t\t\t\t\t\")\", sep = \"\", end = \"\")\n",
        "\t\t\tprint(\"(\", -y + x_centre, \", \", x + y_centre,\n",
        "\t\t\t\t\t\t\t\t\")\", sep = \"\", end = \"\")\n",
        "\t\t\tprint(\"(\", y + x_centre, \", \", -x + y_centre,\n",
        "\t\t\t\t\t\t\t\t\")\", sep = \"\", end = \"\")\n",
        "\t\t\tprint(\"(\", -y + x_centre, \", \", -x + y_centre,\n",
        "\t\t\t\t\t\t\t\t\t\t\t\")\", sep = \"\")\n",
        "\t\t\t\t\t\t\t\n",
        "# Driver Code\n",
        "if __name__ == '__main__':\n",
        "\t\n",
        "\t# To draw a circle of radius 10\n",
        "\t# centered at (0, 0)\n",
        "\tmidPointCircleDraw(0, 0, 10)\n",
        "\n",
        "\n",
        "# Contributed by: SHUBHAMSINGH10\n",
        "# Improved by: siddharthx_07\n"
      ],
      "metadata": {
        "colab": {
          "base_uri": "https://localhost:8080/"
        },
        "id": "f5Apn9qMLX-H",
        "outputId": "f668b977-9faa-405f-ec96-b1756b4e11f0"
      },
      "execution_count": 7,
      "outputs": [
        {
          "output_type": "stream",
          "name": "stdout",
          "text": [
            "(10, 0)(10, 0)(0, 10)(0, 10)\n",
            "(10, 1)(-10, 1)(10, -1)(-10, -1)\n",
            "(1, 10)(-1, 10)(1, -10)(-1, -10)\n",
            "(10, 2)(-10, 2)(10, -2)(-10, -2)\n",
            "(2, 10)(-2, 10)(2, -10)(-2, -10)\n",
            "(10, 3)(-10, 3)(10, -3)(-10, -3)\n",
            "(3, 10)(-3, 10)(3, -10)(-3, -10)\n",
            "(9, 4)(-9, 4)(9, -4)(-9, -4)\n",
            "(4, 9)(-4, 9)(4, -9)(-4, -9)\n",
            "(9, 5)(-9, 5)(9, -5)(-9, -5)\n",
            "(5, 9)(-5, 9)(5, -9)(-5, -9)\n",
            "(8, 6)(-8, 6)(8, -6)(-8, -6)\n",
            "(6, 8)(-6, 8)(6, -8)(-6, -8)\n",
            "(7, 7)(-7, 7)(7, -7)(-7, -7)\n"
          ]
        }
      ]
    }
  ]
}